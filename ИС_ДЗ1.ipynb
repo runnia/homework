{
  "nbformat": 4,
  "nbformat_minor": 0,
  "metadata": {
    "colab": {
      "name": "ИС ДЗ1.ipynb",
      "provenance": [],
      "authorship_tag": "ABX9TyMF/peUoJlQptbrJBNMWPys"
    },
    "kernelspec": {
      "name": "python3",
      "display_name": "Python 3"
    },
    "language_info": {
      "name": "python"
    }
  },
  "cells": [
    {
      "cell_type": "code",
      "metadata": {
        "id": "ZfWJEuX8t8xC"
      },
      "source": [
        "import numpy as np\n",
        "import pandas as pd\n",
        "from collections import Counter\n",
        "import matplotlib.pyplot as plt"
      ],
      "execution_count": null,
      "outputs": []
    },
    {
      "cell_type": "code",
      "metadata": {
        "id": "E6xt9tl8xt88"
      },
      "source": [
        "#подготовка данных"
      ],
      "execution_count": null,
      "outputs": []
    }
  ]
}