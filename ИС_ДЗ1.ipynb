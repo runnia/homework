{
  "nbformat": 4,
  "nbformat_minor": 0,
  "metadata": {
    "colab": {
      "name": "ИС ДЗ1.ipynb",
      "provenance": [],
      "authorship_tag": "ABX9TyPJUFrAqPHiQ4EoTlDfibF1"
    },
    "kernelspec": {
      "name": "python3",
      "display_name": "Python 3"
    },
    "language_info": {
      "name": "python"
    }
  },
  "cells": [
    {
      "cell_type": "code",
      "metadata": {
        "id": "ZfWJEuX8t8xC"
      },
      "source": [
        "import numpy as np\n",
        "import pandas as pd\n",
        "from collections import Counter\n",
        "import matplotlib.pyplot as plt"
      ],
      "execution_count": 2,
      "outputs": []
    },
    {
      "cell_type": "code",
      "metadata": {
        "id": "E6xt9tl8xt88"
      },
      "source": [
        "#подготовка данных\n",
        "data = pd.read_csv('https://raw.githubusercontent.com/justmarkham/DAT8/master/data/chipotle.tsv', sep='\\t' )"
      ],
      "execution_count": 3,
      "outputs": []
    },
    {
      "cell_type": "code",
      "metadata": {
        "id": "cD_AgaLIlLdN",
        "colab": {
          "base_uri": "https://localhost:8080/"
        },
        "outputId": "61603f95-c894-4e73-8db6-d3d9346840b1"
      },
      "source": [
        "#1. Вывести: кол-во наблюдений в датасете\n",
        "size = data.shape[0]\n",
        "print(size)"
      ],
      "execution_count": 11,
      "outputs": [
        {
          "output_type": "stream",
          "name": "stdout",
          "text": [
            "4622\n"
          ]
        },
        {
          "output_type": "execute_result",
          "data": {
            "text/plain": [
              "23110"
            ]
          },
          "metadata": {},
          "execution_count": 11
        }
      ]
    },
    {
      "cell_type": "code",
      "metadata": {
        "id": "0DJByvUilMI7",
        "colab": {
          "base_uri": "https://localhost:8080/"
        },
        "outputId": "2777993c-5f2c-4479-f809-8d860624da72"
      },
      "source": [
        "#2. Вывести названия столбцов\n",
        "names = data.columns\n",
        "print(names)"
      ],
      "execution_count": 9,
      "outputs": [
        {
          "output_type": "stream",
          "name": "stdout",
          "text": [
            "Index(['order_id', 'quantity', 'item_name', 'choice_description',\n",
            "       'item_price'],\n",
            "      dtype='object')\n"
          ]
        }
      ]
    },
    {
      "cell_type": "code",
      "metadata": {
        "id": "rTG36_q5lOfi"
      },
      "source": [
        "#3. Определить самую частую позицию (item) в заказе"
      ],
      "execution_count": null,
      "outputs": []
    },
    {
      "cell_type": "code",
      "metadata": {
        "id": "QpEiOtjRlQhO"
      },
      "source": [
        "#4. Построить гистрограмму частоты заказов по позициям (item)"
      ],
      "execution_count": null,
      "outputs": []
    },
    {
      "cell_type": "code",
      "metadata": {
        "id": "x9esLBemlUMq",
        "colab": {
          "base_uri": "https://localhost:8080/"
        },
        "outputId": "c25bbb35-f98c-4280-9d86-e967fdb363ce"
      },
      "source": [
        "#5. Измените тип переменной item_price c с помощью лямбды функции\n",
        "data.apply(lambda x: float(x['item_price'].replace('$', '')),axis=1)\n",
        "print(data)"
      ],
      "execution_count": 12,
      "outputs": [
        {
          "output_type": "stream",
          "name": "stdout",
          "text": [
            "      order_id  ...  item_price\n",
            "0            1  ...      $2.39 \n",
            "1            1  ...      $3.39 \n",
            "2            1  ...      $3.39 \n",
            "3            1  ...      $2.39 \n",
            "4            2  ...     $16.98 \n",
            "...        ...  ...         ...\n",
            "4617      1833  ...     $11.75 \n",
            "4618      1833  ...     $11.75 \n",
            "4619      1834  ...     $11.25 \n",
            "4620      1834  ...      $8.75 \n",
            "4621      1834  ...      $8.75 \n",
            "\n",
            "[4622 rows x 5 columns]\n"
          ]
        }
      ]
    },
    {
      "cell_type": "code",
      "metadata": {
        "id": "1nY7pCTalW2K"
      },
      "source": [
        "#6. Построить гистограмму кол-во денег заработанных по каждой позиции (item)"
      ],
      "execution_count": null,
      "outputs": []
    },
    {
      "cell_type": "code",
      "metadata": {
        "id": "9oIlIWtflZBr"
      },
      "source": [
        "#7. Средняя сумма заказа? (минимум 2 способа)\n"
      ],
      "execution_count": null,
      "outputs": []
    },
    {
      "cell_type": "code",
      "metadata": {
        "id": "k24-DZjOlbzQ"
      },
      "source": [
        "#8. Выведите среднее, минимальное и максимальное, медианное значения позиций в заказе"
      ],
      "execution_count": null,
      "outputs": []
    },
    {
      "cell_type": "code",
      "metadata": {
        "id": "FeHjlz1-ldmp"
      },
      "source": [
        "#9. Определить статистику заказов стейков, а также статистику заказов прожарки"
      ],
      "execution_count": null,
      "outputs": []
    },
    {
      "cell_type": "code",
      "metadata": {
        "id": "ylGHzmB0lfpY"
      },
      "source": [
        "#10. Добавить новый столбец цен на каждую позицию в заказе в рублях"
      ],
      "execution_count": null,
      "outputs": []
    },
    {
      "cell_type": "code",
      "metadata": {
        "id": "T0dVYuv0lhnx"
      },
      "source": [
        "#11. Сгруппировать заказы по входящим позициям в него. Отдельно сгруппировать по стейкам во всех видах прожарках"
      ],
      "execution_count": null,
      "outputs": []
    },
    {
      "cell_type": "code",
      "metadata": {
        "id": "syAIkASJljvK"
      },
      "source": [
        "12. Определить цену по каждой позиции в отдельности"
      ],
      "execution_count": null,
      "outputs": []
    }
  ]
}